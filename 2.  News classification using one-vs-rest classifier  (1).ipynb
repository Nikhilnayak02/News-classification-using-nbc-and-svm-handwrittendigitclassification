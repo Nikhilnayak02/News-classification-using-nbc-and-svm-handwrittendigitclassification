{
 "cells": [
  {
   "cell_type": "markdown",
   "metadata": {},
   "source": [
    "## Importing Libraries and reading dataset"
   ]
  },
  {
   "cell_type": "code",
   "execution_count": 1,
   "metadata": {},
   "outputs": [
    {
     "output_type": "stream",
     "name": "stdout",
     "text": [
      "  category                                           headline\n0  FINANCE  U.S. Launches Auto Import Probe, China Vows To...\n1  FINANCE  Starbucks Says Anyone Can Now Sit In Its Cafes...\n2  FINANCE  Seattle Passes Controversial New Tax On City's...\n3  FINANCE  Uber Ends Forced Arbitration In Individual Cas...\n4  FINANCE  Chili's Hit By Data Breach, Credit And Debit C...\n"
     ]
    }
   ],
   "source": [
    "import pandas as pd\n",
    "import numpy as np\n",
    "import csv\n",
    "df=pd.read_csv(\"news10.csv\")\n",
    "#reading dataset file\n",
    "print(df.head())"
   ]
  },
  {
   "cell_type": "code",
   "execution_count": 3,
   "metadata": {},
   "outputs": [
    {
     "output_type": "execute_result",
     "data": {
      "text/plain": [
       "EDUCATION     4760\n",
       "FINANCE       4254\n",
       "SPORTS        4167\n",
       "Healthcare    3756\n",
       "POLITICS      2905\n",
       "category         1\n",
       "Name: category, dtype: int64"
      ]
     },
     "metadata": {},
     "execution_count": 3
    }
   ],
   "source": [
    "df['category'].value_counts()"
   ]
  },
  {
   "cell_type": "markdown",
   "metadata": {},
   "source": [
    "## Train test split for splitting data"
   ]
  },
  {
   "cell_type": "code",
   "execution_count": 5,
   "metadata": {},
   "outputs": [],
   "source": [
    "from sklearn.model_selection import train_test_split\n",
    "#Convert a collection of raw documents to a matrix of TF-IDF features.\n",
    "#TfidfVectorizer is a bag of words approach.\n",
    "from sklearn.naive_bayes import MultinomialNB\n",
    "#The multinomial Naive Bayes(mnb) classifier is suitable for classification with discrete features.\n",
    "\n",
    "data=df['headline']\n",
    "target=df['category']\n",
    "xtrain,xtest,ytrain,ytest=train_test_split(data,target,test_size=0.2,random_state=42)\n",
    "# splitting traning and test data 80% training data and 20 % testing data\n"
   ]
  },
  {
   "cell_type": "markdown",
   "metadata": {},
   "source": [
    "## converting words into Tfidf vectors"
   ]
  },
  {
   "cell_type": "code",
   "execution_count": 4,
   "metadata": {},
   "outputs": [],
   "source": [
    "from sklearn.feature_extraction.text import TfidfVectorizer\n",
    "vectorizer =TfidfVectorizer(stop_words='english',ngram_range=(1,2))\n",
    "#stop_words to remove less meaningingful words in english language\n",
    "#n_gram for outputting one word and two word \n",
    "xtrain = vectorizer.fit_transform(xtrain.values.astype('U'))\n",
    "xtest = vectorizer.transform(xtest.values.astype('U'))\n",
    "\n",
    "#Term Frequency(TF) and Inverse Document Frequency(IDF). The term frequency indicates the frequency of each of the words present in the document or dataset. \n",
    "#The second part is — inverse document frequency. IDF actually tells us how important the word is to the document"
   ]
  },
  {
   "cell_type": "code",
   "execution_count": 5,
   "metadata": {},
   "outputs": [
    {
     "data": {
      "application/javascript": [
       "\n",
       "        if (window._pyforest_update_imports_cell) { window._pyforest_update_imports_cell('from sklearn import svm'); }\n",
       "    "
      ],
      "text/plain": [
       "<IPython.core.display.Javascript object>"
      ]
     },
     "metadata": {},
     "output_type": "display_data"
    }
   ],
   "source": [
    "from sklearn.svm import LinearSVC\n",
    "from sklearn.multiclass import OneVsRestClassifier\n",
    "#onevsrest (one-vs-rest)is a method for using binary classification algorithms for multi-class classification.\n",
    "mnb = OneVsRestClassifier(svm.LinearSVC())"
   ]
  },
  {
   "cell_type": "code",
   "execution_count": 6,
   "metadata": {},
   "outputs": [
    {
     "name": "stdout",
     "output_type": "stream",
     "text": [
      "['SPORTS' 'EDUCATION' 'FINANCE' ... 'EDUCATION' 'Healthcare' 'Healthcare']\n"
     ]
    }
   ],
   "source": [
    "mnb.fit(xtrain,ytrain)\n",
    "prediction = mnb.predict(xtest)\n",
    "print(prediction)"
   ]
  },
  {
   "cell_type": "markdown",
   "metadata": {},
   "source": [
    "## checking accuracy"
   ]
  },
  {
   "cell_type": "code",
   "execution_count": 7,
   "metadata": {},
   "outputs": [
    {
     "data": {
      "text/plain": [
       "array([[694, 100,  74,  37,  41,   0],\n",
       "       [ 83, 615,  68,  40,  28,   0],\n",
       "       [ 70,  60, 588,  18,  27,   0],\n",
       "       [ 60,  68,  22, 404,  20,   0],\n",
       "       [ 33,  21,  14,  13, 770,   0],\n",
       "       [  1,   0,   0,   0,   0,   0]], dtype=int64)"
      ]
     },
     "execution_count": 7,
     "metadata": {},
     "output_type": "execute_result"
    }
   ],
   "source": [
    "from sklearn.metrics import confusion_matrix\n",
    "confusion_matrix(ytest, prediction)\n",
    "#A confusion matrix is a table that is often used to describe the performance \n",
    "#of a classification model on a set of test data for which the true values are known."
   ]
  },
  {
   "cell_type": "code",
   "execution_count": 8,
   "metadata": {},
   "outputs": [
    {
     "name": "stdout",
     "output_type": "stream",
     "text": [
      "0.7737465356512976\n"
     ]
    }
   ],
   "source": [
    "from sklearn.metrics import accuracy_score\n",
    "acc=accuracy_score(ytest,prediction)\n",
    "print(acc)"
   ]
  },
  {
   "cell_type": "code",
   "execution_count": 9,
   "metadata": {},
   "outputs": [
    {
     "name": "stdout",
     "output_type": "stream",
     "text": [
      "['EDUCATION']\n"
     ]
    }
   ],
   "source": [
    "new4=['data b']\n",
    "new4=vectorizer.transform(new4)\n",
    "p=mnb.predict(new4.todense())\n",
    "print(p)"
   ]
  },
  {
   "cell_type": "code",
   "execution_count": null,
   "metadata": {},
   "outputs": [],
   "source": []
  },
  {
   "cell_type": "code",
   "execution_count": null,
   "metadata": {},
   "outputs": [],
   "source": []
  }
 ],
 "metadata": {
  "kernelspec": {
   "name": "python392jvsc74a57bd0f74579012b49ac62e20268bc3041c93309dc1876b7a10b964add9e6588836ca1",
   "display_name": "Python 3.9.2 64-bit"
  },
  "language_info": {
   "codemirror_mode": {
    "name": "ipython",
    "version": 3
   },
   "file_extension": ".py",
   "mimetype": "text/x-python",
   "name": "python",
   "nbconvert_exporter": "python",
   "pygments_lexer": "ipython3",
   "version": "3.9.2"
  }
 },
 "nbformat": 4,
 "nbformat_minor": 4
}